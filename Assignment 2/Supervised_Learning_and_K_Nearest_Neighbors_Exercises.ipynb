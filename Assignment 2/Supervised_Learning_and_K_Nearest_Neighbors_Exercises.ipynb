{
 "cells": [
  {
   "cell_type": "markdown",
   "metadata": {},
   "source": [
    "# "
   ]
  },
  {
   "cell_type": "markdown",
   "metadata": {},
   "source": [
    "Learning Objectives:\n",
    "\n",
    "- Explain supervised learning and how it can be applied to regression and classification problems\n",
    "- Apply K-Nearest Neighbor (KNN) algorithm for classification\n",
    "- Apply Intel® Extension for Scikit-learn* to leverage underlying compute capabilities of hardware\n",
    "\n",
    "\n",
    "\n",
    "# scikit-learn* \n",
    "\n",
    "Frameworks provide structure that Data Scientists use to build code. Frameworks are more than just libraries, because in addition to callable code, frameworks influence how code is written. \n",
    "\n",
    "A main virtue of using an optimized framework is that code runs faster. Code that runs faster is just generally more convenient but when we begin looking at applied data science and AI models, we can see more material benefits. Here you will see how optimization, particularly hyperparameter optimization can benefit more than just speed. \n",
    "\n",
    "These exercises will demonstrate how to apply **the Intel® Extension for Scikit-learn*,** a seamless way to speed up your Scikit-learn application. The acceleration is achieved through the use of the Intel® oneAPI Data Analytics Library (oneDAL). Patching is the term used to extend scikit-learn with Intel optimizations and makes it a well-suited machine learning framework for dealing with real-life problems. \n",
    "\n",
    "To get optimized versions of many Scikit-learn algorithms using a patch() approach consisting of adding these lines of code Prior to importing sklearn: \n",
    "\n",
    "- **from sklearnex import patch_sklearn**\n",
    "- **patch_sklearn()**\n",
    "\n",
    "## This exercise relies on installation of  Intel® Extension for Scikit-learn*\n",
    "\n",
    "If you have not already done so, follow the instructions from Week 1 for instructions"
   ]
  },
  {
   "cell_type": "code",
   "execution_count": 12,
   "metadata": {
    "ExecuteTime": {
     "end_time": "2021-09-24T17:09:19.019081Z",
     "start_time": "2021-09-24T17:09:19.011091Z"
    }
   },
   "outputs": [],
   "source": [
    "from __future__ import print_function\n",
    "import os\n",
    "data_path = ['../Datasets']\n",
    "\n",
    "# from sklearnex import patch_sklearn\n",
    "# patch_sklearn()  \n",
    "\n",
    "from sklearn.preprocessing import LabelBinarizer\n",
    "from sklearn.preprocessing import MinMaxScaler\n",
    "from sklearn.neighbors import KNeighborsClassifier\n"
   ]
  },
  {
   "cell_type": "markdown",
   "metadata": {},
   "source": [
    "## Question 1\n",
    "\n",
    "* Begin by importing the data. Examine the columns and data.\n",
    "* Notice that the data contains a state, area code, and phone number. Do you think these are good features to use when building a machine learning model? Why or why not? \n",
    "\n",
    "We will not be using them, so they can be dropped from the data."
   ]
  },
  {
   "cell_type": "code",
   "execution_count": 13,
   "metadata": {},
   "outputs": [
    {
     "name": "stdout",
     "output_type": "stream",
     "text": [
      "  first_name last_name            company_name               address  \\\n",
      "0      James      Butt       Benton, John B Jr    6649 N Blue Gum St   \n",
      "1  Josephine   Darakjy   Chanay, Jeffrey A Esq   4 B Blue Ridge Blvd   \n",
      "2        Art    Venere     Chemel, James L Cpa  8 W Cerritos Ave #54   \n",
      "3      Lenna  Paprocki  Feltz Printing Service           639 Main St   \n",
      "4    Donette    Foller     Printing Dimensions          34 Center St   \n",
      "\n",
      "          city      county state    zip        phone1        phone2  \\\n",
      "0  New Orleans     Orleans    LA  70116  504-621-8927  504-845-1427   \n",
      "1     Brighton  Livingston    MI  48116  810-292-9388  810-374-9840   \n",
      "2   Bridgeport  Gloucester    NJ   8014  856-636-8749  856-264-4130   \n",
      "3    Anchorage   Anchorage    AK  99501  907-385-4412  907-921-2010   \n",
      "4     Hamilton      Butler    OH  45011  513-570-1893  513-549-4561   \n",
      "\n",
      "                           email                                  web  \n",
      "0                jbutt@gmail.com         http://www.bentonjohnbjr.com  \n",
      "1  josephine_darakjy@darakjy.org     http://www.chanayjeffreyaesq.com  \n",
      "2                 art@venere.org       http://www.chemeljameslcpa.com  \n",
      "3          lpaprocki@hotmail.com  http://www.feltzprintingservice.com  \n",
      "4         donette.foller@cox.net    http://www.printingdimensions.com  \n",
      "<class 'pandas.core.frame.DataFrame'>\n",
      "RangeIndex: 500 entries, 0 to 499\n",
      "Data columns (total 12 columns):\n",
      " #   Column        Non-Null Count  Dtype \n",
      "---  ------        --------------  ----- \n",
      " 0   first_name    500 non-null    object\n",
      " 1   last_name     500 non-null    object\n",
      " 2   company_name  500 non-null    object\n",
      " 3   address       500 non-null    object\n",
      " 4   city          500 non-null    object\n",
      " 5   county        500 non-null    object\n",
      " 6   state         500 non-null    object\n",
      " 7   zip           500 non-null    int64 \n",
      " 8   phone1        500 non-null    object\n",
      " 9   phone2        500 non-null    object\n",
      " 10  email         500 non-null    object\n",
      " 11  web           500 non-null    object\n",
      "dtypes: int64(1), object(11)\n",
      "memory usage: 47.0+ KB\n",
      "None\n"
     ]
    }
   ],
   "source": [
    "import pandas as pd\n",
    "\n",
    "df = pd.read_csv(\"us-500.csv\") \n",
    "\n",
    "print(df.head())\n",
    "\n",
    "print(df.info())"
   ]
  },
  {
   "cell_type": "code",
   "execution_count": 14,
   "metadata": {},
   "outputs": [
    {
     "name": "stdout",
     "output_type": "stream",
     "text": [
      "  first_name last_name            company_name         city      county  \\\n",
      "0      James      Butt       Benton, John B Jr  New Orleans     Orleans   \n",
      "1  Josephine   Darakjy   Chanay, Jeffrey A Esq     Brighton  Livingston   \n",
      "2        Art    Venere     Chemel, James L Cpa   Bridgeport  Gloucester   \n",
      "3      Lenna  Paprocki  Feltz Printing Service    Anchorage   Anchorage   \n",
      "4    Donette    Foller     Printing Dimensions     Hamilton      Butler   \n",
      "\n",
      "     zip        phone1                          email  \\\n",
      "0  70116  504-621-8927                jbutt@gmail.com   \n",
      "1  48116  810-292-9388  josephine_darakjy@darakjy.org   \n",
      "2   8014  856-636-8749                 art@venere.org   \n",
      "3  99501  907-385-4412          lpaprocki@hotmail.com   \n",
      "4  45011  513-570-1893         donette.foller@cox.net   \n",
      "\n",
      "                                   web  \n",
      "0         http://www.bentonjohnbjr.com  \n",
      "1     http://www.chanayjeffreyaesq.com  \n",
      "2       http://www.chemeljameslcpa.com  \n",
      "3  http://www.feltzprintingservice.com  \n",
      "4    http://www.printingdimensions.com  \n"
     ]
    }
   ],
   "source": [
    "df = df.drop(columns=[\"state\", \"address\", \"phone2\"])\n",
    "\n",
    "print(df.head())"
   ]
  },
  {
   "cell_type": "markdown",
   "metadata": {},
   "source": [
    "## Question 2\n",
    "\n",
    "* Notice that some of the columns are categorical data and some are floats. These features will need to be numerically encoded using one of the methods from the lecture.\n",
    "* Finally, remember from the lecture that K-nearest neighbors requires scaled data. Scale the data using one of the scaling methods discussed in the lecture."
   ]
  },
  {
   "cell_type": "code",
   "execution_count": 16,
   "metadata": {},
   "outputs": [
    {
     "name": "stdout",
     "output_type": "stream",
     "text": [
      "\n",
      "Scaled Data (First 5 rows):\n",
      "   first_name  last_name  company_name   address      city    county  \\\n",
      "0   -0.237882  -1.340610     -1.430677  0.509224  0.346543  0.566206   \n",
      "1   -0.071581  -1.063481     -1.098122 -0.453798 -1.287996  0.016560   \n",
      "2   -1.524903   1.493031     -1.077338  1.077338 -1.308686 -0.515354   \n",
      "3    0.268250   0.613147     -0.661645  0.439942 -1.629387 -1.756489   \n",
      "4   -0.852471  -0.758640      0.772496 -0.723999 -0.460381 -1.348688   \n",
      "\n",
      "      state       zip    phone1    phone2     email       web  \n",
      "0 -0.450590  0.688866 -0.301377 -0.294449 -0.218239 -1.437605  \n",
      "1 -0.165947  0.018868  0.938773  0.938773 -0.065818 -1.118907  \n",
      "2  0.474500 -1.202416  1.139692  1.118907 -1.513815 -1.098122  \n",
      "3 -1.589163  1.583769  1.215902  1.243615  0.439942 -0.668573  \n",
      "4  0.759144 -0.075693 -0.107387 -0.107387 -0.862563  0.765568  \n"
     ]
    }
   ],
   "source": [
    "import pandas as pd\n",
    "from sklearn.preprocessing import LabelEncoder, StandardScaler\n",
    "\n",
    "# Load your dataset (replace 'your_data.csv' with your actual file)\n",
    "df = pd.read_csv('us-500.csv')\n",
    "\n",
    "# Clean your data (example cleaning steps)\n",
    "df_cleaned = df.dropna()  # Remove missing values\n",
    "df_cleaned = df_cleaned.drop_duplicates()  # Remove duplicates\n",
    "\n",
    "# Encode categorical features\n",
    "categorical_cols = df_cleaned.select_dtypes(include=['object']).columns\n",
    "label_encoders = {}\n",
    "\n",
    "for col in categorical_cols:\n",
    "    le = LabelEncoder()\n",
    "    df_cleaned[col] = le.fit_transform(df_cleaned[col].astype(str))  # Handle potential mixed types\n",
    "    label_encoders[col] = le\n",
    "\n",
    "# Scale numerical features\n",
    "scaler = StandardScaler()\n",
    "scaled_data = scaler.fit_transform(df_cleaned)\n",
    "df_scaled = pd.DataFrame(scaled_data, columns=df_cleaned.columns)\n",
    "\n",
    "# Show results\n",
    "print(\"\\nScaled Data (First 5 rows):\")\n",
    "print(df_scaled.head())"
   ]
  },
  {
   "cell_type": "markdown",
   "metadata": {},
   "source": [
    "## Question 3\n",
    "\n",
    "* Separate the feature columns (everything except `churned`) from the label (`churned`). This will create two tables.\n",
    "* Fit a K-nearest neighbors model with a value of `k=3` to this data and predict the outcome on the same data."
   ]
  },
  {
   "cell_type": "code",
   "execution_count": 17,
   "metadata": {},
   "outputs": [
    {
     "name": "stdout",
     "output_type": "stream",
     "text": [
      "\n",
      "Predicted Labels (First 10): [141  41  39   1 121  13  62 199 188  19]\n",
      "Model Accuracy on Training Data: 0.37\n"
     ]
    }
   ],
   "source": [
    "from sklearn.model_selection import train_test_split\n",
    "from sklearn.neighbors import KNeighborsClassifier\n",
    "from sklearn.metrics import accuracy_score\n",
    "\n",
    "X = df_scaled.drop(columns=[\"city\"]) \n",
    "y = df_cleaned[\"city\"] \n",
    "\n",
    "knn = KNeighborsClassifier(n_neighbors=3)\n",
    "knn.fit(X, y)\n",
    "\n",
    "y_pred = knn.predict(X)\n",
    "\n",
    "accuracy = accuracy_score(y, y_pred)\n",
    "\n",
    "print(\"\\nPredicted Labels (First 10):\", y_pred[:10])\n",
    "print(\"Model Accuracy on Training Data:\", accuracy)"
   ]
  },
  {
   "cell_type": "markdown",
   "metadata": {},
   "source": [
    "## Question 4\n",
    "\n",
    "Ways to measure error haven't been discussed in class yet, but accuracy is an easy one to understand--it is simply the percent of labels that were correctly predicted (either true or false). \n",
    "\n",
    "* Write a function to calculate accuracy using the actual and predicted labels.\n",
    "* Using the function, calculate the accuracy of this K-nearest neighbors model on the data."
   ]
  },
  {
   "cell_type": "code",
   "execution_count": 18,
   "metadata": {},
   "outputs": [
    {
     "name": "stdout",
     "output_type": "stream",
     "text": [
      "Model Accuracy: 37.00%\n"
     ]
    }
   ],
   "source": [
    "def calculate_accuracy(y_true, y_pred):\n",
    " \n",
    "    correct = sum(y_true == y_pred) \n",
    "    total = len(y_true)  \n",
    "    return correct / total * 100  \n",
    "\n",
    "accuracy = calculate_accuracy(y, y_pred)\n",
    "\n",
    "print(f\"Model Accuracy: {accuracy:.2f}%\")\n"
   ]
  },
  {
   "cell_type": "markdown",
   "metadata": {},
   "source": [
    "## Question 5\n",
    "\n",
    "* Fit the K-nearest neighbors model again with `n_neighbors=3` but this time use distance for the weights. Calculate the accuracy using the function you created above. \n",
    "* Fit another K-nearest neighbors model. This time use uniform weights but set the power parameter for the Minkowski distance metric to be 1 (`p=1`) i.e. Manhattan Distance.\n",
    "\n",
    "When weighted distances are used for part 1 of this question, a value of 1.0 should be returned for the accuracy. Why do you think this is? *Hint:* we are predicting on the data and with KNN the model *is* the data. We will learn how to avoid this pitfall in the next lecture."
   ]
  },
  {
   "cell_type": "code",
   "execution_count": 19,
   "metadata": {},
   "outputs": [
    {
     "name": "stdout",
     "output_type": "stream",
     "text": [
      "Accuracy with Distance Weights: 100.00%\n",
      "Accuracy with Manhattan Distance: 43.40%\n"
     ]
    }
   ],
   "source": [
    "from sklearn.neighbors import KNeighborsClassifier\n",
    "\n",
    "knn_distance = KNeighborsClassifier(n_neighbors=3, weights='distance')\n",
    "knn_distance.fit(X, y)\n",
    "y_pred_distance = knn_distance.predict(X)\n",
    "\n",
    "accuracy_distance = calculate_accuracy(y, y_pred_distance)\n",
    "print(f\"Accuracy with Distance Weights: {accuracy_distance:.2f}%\")\n",
    "\n",
    "knn_manhattan = KNeighborsClassifier(n_neighbors=3, weights='uniform', p=1)\n",
    "knn_manhattan.fit(X, y)\n",
    "y_pred_manhattan = knn_manhattan.predict(X)\n",
    "\n",
    "accuracy_manhattan = calculate_accuracy(y, y_pred_manhattan)\n",
    "print(f\"Accuracy with Manhattan Distance: {accuracy_manhattan:.2f}%\")\n"
   ]
  },
  {
   "cell_type": "markdown",
   "metadata": {},
   "source": [
    "## Question 6\n",
    "\n",
    "* Fit a K-nearest neighbors model using values of `k` (`n_neighbors`) ranging from 1 to 20. Use uniform weights (the default). The coefficient for the Minkowski distance (`p`) can be set to either 1 or 2--just be consistent. Store the accuracy and the value of `k` used from each of these fits in a list or dictionary.\n",
    "* Plot (or view the table of) the `accuracy` vs `k`. What do you notice happens when `k=1`? Why do you think this is? *Hint:* it's for the same reason discussed above."
   ]
  },
  {
   "cell_type": "code",
   "execution_count": 20,
   "metadata": {},
   "outputs": [
    {
     "name": "stdout",
     "output_type": "stream",
     "text": [
      "Collecting intel-tensorflow\n",
      "  Downloading intel_tensorflow-0.0.1-py2.py3-none-any.whl.metadata (901 bytes)\n",
      "Requirement already satisfied: pip>=10.0.1 in /opt/anaconda3/envs/practical/lib/python3.11/site-packages (from intel-tensorflow) (25.0)\n",
      "Downloading intel_tensorflow-0.0.1-py2.py3-none-any.whl (7.1 kB)\n",
      "Installing collected packages: intel-tensorflow\n",
      "Successfully installed intel-tensorflow-0.0.1\n"
     ]
    }
   ],
   "source": [
    "!pip install intel-tensorflow"
   ]
  },
  {
   "cell_type": "code",
   "execution_count": 21,
   "metadata": {},
   "outputs": [
    {
     "name": "stdout",
     "output_type": "stream",
     "text": [
      "\u001b[31mERROR: Could not find a version that satisfies the requirement scikit-learn-intelex (from versions: none)\u001b[0m\u001b[31m\n",
      "\u001b[0m\u001b[31mERROR: No matching distribution found for scikit-learn-intelex\u001b[0m\u001b[31m\n",
      "\u001b[0m"
     ]
    }
   ],
   "source": [
    "!pip install scikit-learn-intelex"
   ]
  },
  {
   "cell_type": "code",
   "execution_count": 22,
   "metadata": {},
   "outputs": [
    {
     "name": "stdout",
     "output_type": "stream",
     "text": [
      "\u001b[31mERROR: Could not find a version that satisfies the requirement daal4py (from versions: none)\u001b[0m\u001b[31m\n",
      "\u001b[0m\u001b[31mERROR: No matching distribution found for daal4py\u001b[0m\u001b[31m\n",
      "\u001b[0m"
     ]
    }
   ],
   "source": [
    "!pip install daal4py"
   ]
  },
  {
   "cell_type": "code",
   "execution_count": 23,
   "metadata": {},
   "outputs": [
    {
     "ename": "ModuleNotFoundError",
     "evalue": "No module named 'sklearnex'",
     "output_type": "error",
     "traceback": [
      "\u001b[31m---------------------------------------------------------------------------\u001b[39m",
      "\u001b[31mModuleNotFoundError\u001b[39m                       Traceback (most recent call last)",
      "\u001b[36mCell\u001b[39m\u001b[36m \u001b[39m\u001b[32mIn[23]\u001b[39m\u001b[32m, line 1\u001b[39m\n\u001b[32m----> \u001b[39m\u001b[32m1\u001b[39m \u001b[38;5;28;01mfrom\u001b[39;00m\u001b[38;5;250m \u001b[39m\u001b[34;01msklearnex\u001b[39;00m\u001b[38;5;250m \u001b[39m\u001b[38;5;28;01mimport\u001b[39;00m patch_sklearn\n\u001b[32m      2\u001b[39m patch_sklearn()\n",
      "\u001b[31mModuleNotFoundError\u001b[39m: No module named 'sklearnex'"
     ]
    }
   ],
   "source": [
    "from sklearnex import patch_sklearn\n",
    "patch_sklearn()"
   ]
  },
  {
   "cell_type": "code",
   "execution_count": 24,
   "metadata": {},
   "outputs": [
    {
     "data": {
      "image/png": "[encoded data removed]",
      "text/plain": [
       "<Figure size 800x500 with 1 Axes>"
      ]
     },
     "metadata": {},
     "output_type": "display_data"
    },
    {
     "name": "stdout",
     "output_type": "stream",
     "text": [
      "     k  Accuracy\n",
      "0    1     100.0\n",
      "1    2      53.4\n",
      "2    3      37.0\n",
      "3    4      31.0\n",
      "4    5      28.4\n",
      "5    6      26.4\n",
      "6    7      25.6\n",
      "7    8      23.6\n",
      "8    9      22.8\n",
      "9   10      22.4\n",
      "10  11      21.6\n",
      "11  12      20.8\n",
      "12  13      21.2\n",
      "13  14      21.2\n",
      "14  15      20.8\n",
      "15  16      21.2\n",
      "16  17      19.8\n",
      "17  18      19.2\n",
      "18  19      18.6\n",
      "19  20      18.4\n"
     ]
    }
   ],
   "source": [
    "import matplotlib.pyplot as plt\n",
    "\n",
    "accuracy_results = {}\n",
    "\n",
    "for k in range(1, 21):\n",
    "    knn = KNeighborsClassifier(n_neighbors=k, weights='uniform', p=2)  \n",
    "    knn.fit(X, y)\n",
    "    y_pred = knn.predict(X)\n",
    "\n",
    "    accuracy = calculate_accuracy(y, y_pred)\n",
    "\n",
    "    accuracy_results[k] = accuracy\n",
    "\n",
    "accuracy_df = pd.DataFrame(list(accuracy_results.items()), columns=['k', 'Accuracy'])\n",
    "\n",
    "plt.figure(figsize=(8, 5))\n",
    "plt.plot(accuracy_df['k'], accuracy_df['Accuracy'], marker='o', linestyle='-')\n",
    "plt.xlabel(\"Number of Neighbors (k)\")\n",
    "plt.ylabel(\"Accuracy (%)\")\n",
    "plt.title(\"Accuracy vs. k in KNN\")\n",
    "plt.xticks(range(1, 21))\n",
    "plt.grid(True)\n",
    "plt.show()\n",
    "\n",
    "print(accuracy_df)"
   ]
  }
 ],
 "metadata": {
  "anaconda-cloud": {},
  "kernelspec": {
   "display_name": "practical",
   "language": "python",
   "name": "python3"
  },
  "language_info": {
   "codemirror_mode": {
    "name": "ipython",
    "version": 3
   },
   "file_extension": ".py",
   "mimetype": "text/x-python",
   "name": "python",
   "nbconvert_exporter": "python",
   "pygments_lexer": "ipython3",
   "version": "3.11.11"
  },
  "name": "Linear_Regression_and_K_Nearest_Neighbors_Exercises-ANSWERS",
  "notebookId": 2125319687183902
 },
 "nbformat": 4,
 "nbformat_minor": 4
}
